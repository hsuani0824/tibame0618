{
  "nbformat": 4,
  "nbformat_minor": 0,
  "metadata": {
    "colab": {
      "provenance": [],
      "authorship_tag": "ABX9TyO6DCVwL1Mhna1CDoWJOCme",
      "include_colab_link": true
    },
    "kernelspec": {
      "name": "python3",
      "display_name": "Python 3"
    },
    "language_info": {
      "name": "python"
    }
  },
  "cells": [
    {
      "cell_type": "markdown",
      "metadata": {
        "id": "view-in-github",
        "colab_type": "text"
      },
      "source": [
        "<a href=\"https://colab.research.google.com/github/hsuani0824/tibame0618/blob/main/TibaMe0618.ipynb\" target=\"_parent\"><img src=\"https://colab.research.google.com/assets/colab-badge.svg\" alt=\"Open In Colab\"/></a>"
      ]
    },
    {
      "cell_type": "markdown",
      "source": [
        "```\n",
        "標準python: .py\n",
        "基於python的工具庫(jupyter notebook): .ipynb\n",
        "jupyter notebook的文字: markdown語法\n",
        "```\n",
        "[Latex Math語法](https://zh.wikibooks.org/zh-tw/LaTeX/%E6%95%B0%E5%AD%A6%E5%85%AC%E5%BC%8F):數學式子\n",
        "\n",
        "$ a = \\pi \\frac{1}{2-\\gamma} $"
      ],
      "metadata": {
        "id": "FOttmzxutBCH"
      }
    },
    {
      "cell_type": "code",
      "execution_count": null,
      "metadata": {
        "id": "Vt9-ua5Hqz7A"
      },
      "outputs": [],
      "source": []
    }
  ]
}
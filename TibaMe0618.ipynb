{
  "nbformat": 4,
  "nbformat_minor": 0,
  "metadata": {
    "colab": {
      "provenance": [],
      "authorship_tag": "ABX9TyNTbs2WWTe0h1nhz/sYqlXj",
      "include_colab_link": true
    },
    "kernelspec": {
      "name": "python3",
      "display_name": "Python 3"
    },
    "language_info": {
      "name": "python"
    }
  },
  "cells": [
    {
      "cell_type": "markdown",
      "metadata": {
        "id": "view-in-github",
        "colab_type": "text"
      },
      "source": [
        "<a href=\"https://colab.research.google.com/github/hsuani0824/tibame0618/blob/main/TibaMe0618.ipynb\" target=\"_parent\"><img src=\"https://colab.research.google.com/assets/colab-badge.svg\" alt=\"Open In Colab\"/></a>"
      ]
    },
    {
      "cell_type": "markdown",
      "source": [
        "```\n",
        "標準python: .py\n",
        "基於python的工具庫(jupyter notebook): .ipynb\n",
        "jupyter notebook的文字: markdown語法\n",
        "```\n",
        "[Latex Math語法](https://zh.wikibooks.org/zh-tw/LaTeX/%E6%95%B0%E5%AD%A6%E5%85%AC%E5%BC%8F):數學式子\n",
        "\n",
        "$ a = \\pi \\frac{1}{2-\\gamma} $"
      ],
      "metadata": {
        "id": "FOttmzxutBCH"
      }
    },
    {
      "cell_type": "markdown",
      "source": [
        "```\n",
        "1. 功能: print(參數)\n",
        "就算功能沒有參數: 功能()\n",
        "2. 註解:# 一個空格才開始\n",
        "3. 程式可讀性: 註解 & 排版 & 語法\n",
        "4. 型態(分類):\n",
        "   數字: 整數(int) & 小數(float) 0.1314\n",
        "   字串: (str) \"身高..a:0\"\n",
        "   清單(list): day_per_month = [31, 28, 31]\n",
        "5. 給名字: 名稱 = 值\n",
        "   5 == 3 + 2(左右相等)\n",
        "   x = 3(取代/是)\n",
        "6. 如果否則: if elif else\n",
        "7. 縮排(劇本)(冒號/tab) !!IndentationError縮排錯誤\n",
        "Amy:\n",
        "    xxxx\n",
        "    xxx\n",
        "    xx\n",
        "Bob:\n",
        "    xxx\n",
        "8. 取消縮排 shift+Tab ， 縮排 Tab\n",
        "```"
      ],
      "metadata": {
        "id": "V_FjE7I41jeC"
      }
    },
    {
      "cell_type": "markdown",
      "source": [
        "```\n",
        "1. 如果要放很多東西\n",
        "清單(list): day_per_month = [31, 28, 31]\n",
        "python會給每個東西key: 0 1 2\n",
        "\n",
        "key查value(key-value): day_per_month[0]\n",
        "\n",
        "2. 9 / 7 -> 1 ... 2\n",
        "   9 // 7 -> 1\n",
        "   9 % 7 -> 2\n",
        "```"
      ],
      "metadata": {
        "id": "Hsvp5rVJnwq7"
      }
    },
    {
      "cell_type": "code",
      "source": [
        "s = \"abcde\"\n",
        "print(s[2])"
      ],
      "metadata": {
        "colab": {
          "base_uri": "https://localhost:8080/"
        },
        "id": "6XNBHDmWo3qr",
        "outputId": "297620bd-7ca5-4593-edc6-46d5d70704da"
      },
      "execution_count": 2,
      "outputs": [
        {
          "output_type": "stream",
          "name": "stdout",
          "text": [
            "c\n"
          ]
        }
      ]
    },
    {
      "cell_type": "code",
      "execution_count": 1,
      "metadata": {
        "id": "Vt9-ua5Hqz7A",
        "colab": {
          "base_uri": "https://localhost:8080/"
        },
        "outputId": "b36db2b0-dcbf-44bc-81d2-9b154c3522cd"
      },
      "outputs": [
        {
          "output_type": "execute_result",
          "data": {
            "text/plain": [
              "5"
            ]
          },
          "metadata": {},
          "execution_count": 1
        }
      ],
      "source": [
        "# 我是註解 ctrl+/\n",
        "print(3+2)"
      ]
    },
    {
      "cell_type": "code",
      "source": [
        "# 100以上: big\n",
        "# 10~100: medium\n",
        "# 10以下: small\n",
        "a = float(input(\"enter a number:\"))\n",
        "if a >= 100:\n",
        "    print(\"big\")\n",
        "elif a > 10:\n",
        "    print(\"medium\")\n",
        "else:\n",
        "    print(\"small\")"
      ],
      "metadata": {
        "colab": {
          "base_uri": "https://localhost:8080/"
        },
        "id": "szyqwn7HCTU7",
        "outputId": "6196dcd5-3592-4a5d-c1d1-c1ec8dd50008"
      },
      "execution_count": 14,
      "outputs": [
        {
          "output_type": "stream",
          "name": "stdout",
          "text": [
            "enter a number:10.1\n",
            "medium\n"
          ]
        }
      ]
    },
    {
      "cell_type": "markdown",
      "source": [
        "```\n",
        "判斷閏年:\n",
        "1. 如果年份被 4 整除，則移至步驟 2。 否則，請跳至步驟 5。\n",
        "2. 如果年份被 100 整除，則移至步驟 3。 否則，請跳至步驟 4。\n",
        "3. 如果年份被 400 整除，則移至步驟 4。 否則，請跳至步驟 5。\n",
        "4. 該年份為閏年 (有 366 天)。\n",
        "5. 該年分不是閏年 (有 365 天)。\n",
        "# 外到裡\n",
        "if 被4整除:\n",
        "    if 被100整除:\n",
        "        if 被400整除:\n",
        "            閏年\n",
        "        else:\n",
        "            平年\n",
        "    else:\n",
        "        閏年\n",
        "else:\n",
        "    平年\n",
        "\n",
        "# 裡到外\n",
        "if 被400整除:\n",
        "    閏年\n",
        "elif 被100整除:\n",
        "    平年\n",
        "elif 被4整除:\n",
        "    閏年\n",
        "else:\n",
        "    平年\n",
        "\n",
        "---\n",
        "判斷天數：\n",
        "1. 一月、三月、五月、七月、八月、十月、十二月各有31天。\n",
        "2. 四月、六月、九月、十一月各有30天。\n",
        "3. 二月，閏年29天，非閏年28天。\n",
        "```"
      ],
      "metadata": {
        "id": "5Dj3XdgQ3mCT"
      }
    },
    {
      "cell_type": "code",
      "source": [
        "# 年月日誰先\n",
        "if 年份不小於0:\n",
        "    if 月份 1~12:\n",
        "        寫一段程式把每個月到底有幾天搞定\n",
        "        大小月正常設定+閏年判斷\n",
        "        if 日期符合我們設定:\n",
        "            年月日合理\n",
        "        else:\n",
        "            日期不合理\n",
        "    else:\n",
        "        月份不合理\n",
        "else:\n",
        "    年份不合理"
      ],
      "metadata": {
        "id": "yiWM4NCoJDjF"
      },
      "execution_count": null,
      "outputs": []
    },
    {
      "cell_type": "code",
      "source": [
        "# 外到裡\n",
        "if 被4整除:\n",
        "    if 被100整除:\n",
        "        if 被400整除:\n",
        "            閏年\n",
        "        else:\n",
        "            平年\n",
        "    else:\n",
        "        閏年\n",
        "else:\n",
        "    平年"
      ],
      "metadata": {
        "id": "7zBR2sKIKJNa"
      },
      "execution_count": null,
      "outputs": []
    },
    {
      "cell_type": "code",
      "source": [
        "# 裡到外\n",
        "if 被400整除:\n",
        "    閏年\n",
        "elif 被100整除:\n",
        "    平年\n",
        "elif 被4整除:\n",
        "    閏年\n",
        "else:\n",
        "    平年"
      ],
      "metadata": {
        "id": "yzqpXQS-KMU3"
      },
      "execution_count": null,
      "outputs": []
    },
    {
      "cell_type": "code",
      "source": [
        "# 判斷年月日是否合理的程式\n",
        "# 閏年的判斷\n",
        "def defLeapYear(input_year, limit):\n",
        "    # if input_year % 4 == 0:\n",
        "    #     if input_year % 100 == 0:\n",
        "    #         if input_year % 400 ==0:\n",
        "    #             return True\n",
        "    #         else:\n",
        "    #             return False\n",
        "    #     else:\n",
        "    #         return True\n",
        "    # else:\n",
        "    #     return False\n",
        "\n",
        "    # if input_year % 400 == 0 or ( input_year % 4 == 0 and input_year % 100 != 0):\n",
        "    #     return True\n",
        "    # else:\n",
        "    #     return False\n",
        "\n",
        "    if input_year % 400 == 0:\n",
        "        return True\n",
        "    elif input_year % 100 == 0:\n",
        "        return False\n",
        "    elif input_year % 4 == 0:\n",
        "        return True\n",
        "    else:\n",
        "        return False\n",
        "\n",
        "# 年月日 int\n",
        "user_input = input(\"Enter a date with format'yyyy/MM/dd':\")\n",
        "input_list = user_input.split('/')\n",
        "year = int(input_list[0])\n",
        "month =  int(input_list[1])\n",
        "day =  int(input_list[-1])\n",
        "if year >= 0:\n",
        "    if month in range(1,13):\n",
        "        day_per_month = [31, 28, 31, 30, 31, 30, 31, 31, 30, 31, 30, 31]\n",
        "        limit_days = day_per_month[month - 1]\n",
        "        if month == 2:\n",
        "            if year % 400 == 0:\n",
        "                limit_days = limit_days + 1\n",
        "            elif year % 100 == 0:\n",
        "                pass\n",
        "            elif year % 4 == 0:\n",
        "                limit_days = limit_days + 1\n",
        "        if 1 <= day <= limit_days:\n",
        "            print(f'correct {year}/{month}/{day}')\n",
        "        else:\n",
        "            print(f\"date invalid {year}年{month}月只有{limit_days}天\")\n",
        "    else:\n",
        "        print(\"month invalid\")\n",
        "else:\n",
        "    print(\"year invalid\")\n",
        "\n"
      ],
      "metadata": {
        "colab": {
          "base_uri": "https://localhost:8080/"
        },
        "id": "fOa6qkde1VTL",
        "outputId": "79dfa9fd-03ee-4986-d3e6-6925ff5009f8"
      },
      "execution_count": 11,
      "outputs": [
        {
          "output_type": "stream",
          "name": "stdout",
          "text": [
            "Enter a date with format: 'yyyy/MM/dd':2024/02/29\n",
            "correct 2024/2/29\n"
          ]
        }
      ]
    },
    {
      "cell_type": "code",
      "source": [
        "# 自1970/01/01 00:00:00起算秒\n",
        "# 秒31000000 1970/12/25 19:06:40\n",
        "# 秒28000000 1970/11/21 01:46:40\n",
        "timestamp = 12000000\n",
        "# 假設沒有閏年 365天\n",
        "second_per_year = 365 * 24 * 60 * 60\n",
        "# 換年\n",
        "year = timestamp // second_per_year + 1970\n",
        "# 換月\n",
        "timestamp_remain = timestamp % second_per_year\n",
        "day_per_month = [31, 28, 31, 30, 31, 30, 31, 31, 30, 31, 30, 31]\n",
        "\n",
        "#算月方法1\n",
        "i = 0\n",
        "while i < 12:\n",
        "    second_in_this_month = day_per_month[i] * (24 * 60 * 60)\n",
        "    if timestamp_remain < second_in_this_month:\n",
        "        break\n",
        "    else:\n",
        "        timestamp_remain = timestamp_remain - second_in_this_month\n",
        "    i += 1\n",
        "month = i + 1\n",
        "\n",
        "#算月方法2\n",
        "# month = 1\n",
        "# for days_in_month in day_per_month:\n",
        "#     second_in_this_month =  days_in_month * (24 * 60 * 60)\n",
        "#     if timestamp_remain < second_in_this_month:\n",
        "#         break\n",
        "#     else:\n",
        "#         timestamp_remain = timestamp_remain - second_in_this_month\n",
        "#         month += 1\n",
        "\n",
        "second_per_day =  24 * 60 * 60\n",
        "second_per_hour = 60 * 60\n",
        "day = timestamp_remain // second_per_day + 1\n",
        "# timestamp_remain = timestamp_remain % second_per_day\n",
        "hour = (timestamp_remain := timestamp_remain % second_per_day) // second_per_hour\n",
        "# timestamp_remain = timestamp_remain % second_per_hour\n",
        "minute = (timestamp_remain := timestamp_remain % second_per_hour) // 60\n",
        "second = timestamp_remain % 60\n",
        "print(f\"假設沒有閏年{year}/{month:0>2}/{day:0>2} {hour:0>2}:{minute:0>2}:{second:0>2}\")"
      ],
      "metadata": {
        "colab": {
          "base_uri": "https://localhost:8080/"
        },
        "id": "bJtfJLw7AvLW",
        "outputId": "eab57b43-cfa3-4e8b-ebd4-67ce978f61c1"
      },
      "execution_count": 52,
      "outputs": [
        {
          "output_type": "stream",
          "name": "stdout",
          "text": [
            "假設沒有閏年1970/05/19 21:20:00\n"
          ]
        }
      ]
    },
    {
      "cell_type": "code",
      "source": [
        "# 假設起始時間為星期一 00:00:00\n",
        "# 過了幾天 -> 星期幾?\n",
        "day_pass = 14\n",
        "weekday = [\"Mon\", \"Tue\", \"Wed\", \"Thu\", \"Fri\", \"Sat\", \"Sun\"]\n",
        "week_pass = day_pass // 7\n",
        "result_weekday = weekday[day_pass % 7]\n",
        "print(f\"already passed {week_pass} week, Now is {result_weekday}\")"
      ],
      "metadata": {
        "colab": {
          "base_uri": "https://localhost:8080/"
        },
        "id": "mjm6S7-M1wCo",
        "outputId": "89d57dc5-5c98-4b9a-8a3e-059a8642ddf6"
      },
      "execution_count": 24,
      "outputs": [
        {
          "output_type": "stream",
          "name": "stdout",
          "text": [
            "already passed 2 week, Now is Mon\n"
          ]
        }
      ]
    },
    {
      "cell_type": "code",
      "source": [
        "i = 0\n",
        "while i < 10:\n",
        "    print( i * 2 + 1, \"hello\")\n",
        "    i += 1"
      ],
      "metadata": {
        "colab": {
          "base_uri": "https://localhost:8080/"
        },
        "id": "NOLaI3bg6Uwt",
        "outputId": "9338770c-cf6f-4f5c-ae4f-598b7b1126e3"
      },
      "execution_count": 46,
      "outputs": [
        {
          "output_type": "stream",
          "name": "stdout",
          "text": [
            "2000 hello\n",
            "1993 hello\n",
            "1986 hello\n",
            "1979 hello\n",
            "1972 hello\n",
            "1965 hello\n",
            "1958 hello\n",
            "1951 hello\n",
            "1944 hello\n",
            "1937 hello\n"
          ]
        }
      ]
    },
    {
      "cell_type": "code",
      "source": [],
      "metadata": {
        "id": "EVrQX3NUDhZu"
      },
      "execution_count": null,
      "outputs": []
    }
  ]
}